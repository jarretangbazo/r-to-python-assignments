{
 "cells": [
  {
   "cell_type": "code",
   "execution_count": 1,
   "id": "6caa8e23-42fe-460d-bd19-9937c5ae123c",
   "metadata": {},
   "outputs": [
    {
     "data": {
      "text/plain": [
       "'\\nHW02: Exploring and Visualizing Data\\nName: Jarret Angbazo\\nDate: 11 September, 2025\\n'"
      ]
     },
     "execution_count": 1,
     "metadata": {},
     "output_type": "execute_result"
    }
   ],
   "source": [
    "\"\"\"\n",
    "HW02: Exploring and Visualizing Data\n",
    "Name: Jarret Angbazo\n",
    "Date: 11 September, 2025\n",
    "\"\"\""
   ]
  },
  {
   "cell_type": "code",
   "execution_count": 2,
   "id": "dea5c30d-a010-479c-9daa-8e3535b231a2",
   "metadata": {},
   "outputs": [],
   "source": [
    "# Import Libraries\n",
    "import pandas as pd\n",
    "import numpy as np\n",
    "import matplotlib.pyplot as plt\n",
    "import seaborn as sns"
   ]
  },
  {
   "cell_type": "code",
   "execution_count": 3,
   "id": "142d60c5-a8b7-472d-a4d0-6070b43ec665",
   "metadata": {},
   "outputs": [],
   "source": [
    "# Load and explore data"
   ]
  },
  {
   "cell_type": "code",
   "execution_count": 4,
   "id": "ad0790df-b20a-470e-9b77-b64ddb1a099f",
   "metadata": {},
   "outputs": [],
   "source": [
    "# Task 1: Data Cleaning"
   ]
  },
  {
   "cell_type": "code",
   "execution_count": 5,
   "id": "6d061b01-f3d2-4759-bc87-3452916495ed",
   "metadata": {},
   "outputs": [],
   "source": [
    "# Task 2: Data Visualization"
   ]
  },
  {
   "cell_type": "code",
   "execution_count": null,
   "id": "e5f044fe-c280-499a-b827-60cac14e472c",
   "metadata": {},
   "outputs": [],
   "source": [
    "# Conclusions"
   ]
  }
 ],
 "metadata": {
  "kernelspec": {
   "display_name": "Python 3 (ipykernel)",
   "language": "python",
   "name": "python3"
  },
  "language_info": {
   "codemirror_mode": {
    "name": "ipython",
    "version": 3
   },
   "file_extension": ".py",
   "mimetype": "text/x-python",
   "name": "python",
   "nbconvert_exporter": "python",
   "pygments_lexer": "ipython3",
   "version": "3.13.5"
  }
 },
 "nbformat": 4,
 "nbformat_minor": 5
}
